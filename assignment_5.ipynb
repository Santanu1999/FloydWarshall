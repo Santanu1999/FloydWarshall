{
  "nbformat": 4,
  "nbformat_minor": 0,
  "metadata": {
    "colab": {
      "name": "assignment 5.ipynb",
      "provenance": [],
      "collapsed_sections": [],
      "include_colab_link": true
    },
    "kernelspec": {
      "name": "python3",
      "display_name": "Python 3"
    }
  },
  "cells": [
    {
      "cell_type": "markdown",
      "metadata": {
        "id": "view-in-github",
        "colab_type": "text"
      },
      "source": [
        "<a href=\"https://colab.research.google.com/github/Santanu1999/FloydWarshall/blob/master/assignment_5.ipynb\" target=\"_parent\"><img src=\"https://colab.research.google.com/assets/colab-badge.svg\" alt=\"Open In Colab\"/></a>"
      ]
    },
    {
      "cell_type": "code",
      "metadata": {
        "colab_type": "code",
        "id": "xj105qo0Qlni",
        "colab": {}
      },
      "source": [
        "# Python Program for Floyd Warshall Algorithm\n",
        "INF = 99999\n",
        "def floydWarshall(graph,V=101):\n",
        "    count=0\n",
        "    dist=graph\n",
        "    for k in range(V):\n",
        "        for i in range(V):\n",
        "            for j in range(V):\n",
        "                count+=1\n",
        "                dist[i][j] = min(dist[i][j] ,dist[i][k]+ dist[k][j]) \n",
        "\t\t\t\t\t\t\t\t \n",
        "\t\t\t\t\t\t\t\t\n",
        "    return count \n"
      ],
      "execution_count": 0,
      "outputs": []
    },
    {
      "cell_type": "code",
      "metadata": {
        "id": "rnZudwhd4O-I",
        "colab_type": "code",
        "outputId": "65f06f0a-aa11-4462-c718-b914aef6da56",
        "colab": {
          "base_uri": "https://localhost:8080/",
          "height": 313
        }
      },
      "source": [
        "from matplotlib import pyplot as plt\n",
        "import numpy as np\n",
        "\n",
        "x_axis=[]\n",
        "y_axis=[]                                           #for list\n",
        "z_axis=[]                                            #for matrix\n",
        "\n",
        "\n",
        "\n",
        "\n",
        "no_of_comp_list=0\n",
        "no_of_comp_matrix=0\n",
        "\n",
        "\n",
        "no=101\n",
        "#100 edges\n",
        "\n",
        "\n",
        "edge=0\n",
        "e1=100\n",
        "matrix= np.zeros((no,no), dtype=int)\n",
        "while(edge<e1):\n",
        "  b=np.random.randint(0,no)\n",
        "  a=np.random.randint(0,no)\n",
        "  weight=np.random.randint(0,100)\n",
        "  while(weight== 0):\n",
        "    weight=np.random.randint(0,100)\n",
        "    edge=edge+1\n",
        "   \n",
        "no_of_comp_matrix=floydWarshall(matrix)\n",
        "\n",
        "\n",
        "y_axis.append(no_of_comp_matrix)\n",
        "x_axis.append(e1)\n",
        "\n",
        "\n",
        "#for 500 edges\n",
        "matrix=[]\n",
        "edge=0\n",
        "e2=500\n",
        "matrix= np.zeros((no,no), dtype=int)\n",
        "while(edge<e2):\n",
        "  b=np.random.randint(0,no)\n",
        "  a=np.random.randint(0,no)\n",
        "  weight=np.random.randint(0,100)\n",
        "  while(weight== 0):\n",
        "    weight=np.random.randint(0,100)\n",
        "    edge=edge+1\n",
        "   \n",
        "no_of_comp_matrix=floydWarshall(matrix)\n",
        "y_axis.append(no_of_comp_matrix)\n",
        "x_axis.append(e1)\n",
        "\n",
        "#for 100 edges\n",
        "matrix=[]\n",
        "edge=0\n",
        "e3=1000\n",
        "matrix= np.zeros((no,no), dtype=int)\n",
        "while(edge<e3):\n",
        "  b=np.random.randint(0,no)\n",
        "  a=np.random.randint(0,no)\n",
        "  weight=np.random.randint(0,100)\n",
        "  while(weight== 0):\n",
        "    weight=np.random.randint(0,100)\n",
        "    edge=edge+1\n",
        "  matrix[a][b]=weight    \n",
        "\n",
        "no_of_comp_matrix=floydWarshall(matrix)\n",
        "\n",
        "y_axis.append(no_of_comp_matrix)\n",
        "x_axis.append(e3)\n",
        "\n",
        "#for2000\n",
        "matrix=[]\n",
        "edge=0\n",
        "e4=2000\n",
        "matrix= np.zeros((no,no), dtype=int)\n",
        "while(edge<e4):\n",
        "  b=np.random.randint(0,no)\n",
        "  a=np.random.randint(0,no)\n",
        "  weight=np.random.randint(0,100)\n",
        "  while(weight== 0):\n",
        "    weight=np.random.randint(0,100)\n",
        "    edge=edge+1\n",
        "   \n",
        "no_of_comp_matrix=floydWarshall(matrix)\n",
        "\n",
        "\n",
        "y_axis.append(no_of_comp_matrix)\n",
        "x_axis.append(e4)\n",
        "\n",
        "#for3000\n",
        "matrix=[]\n",
        "edge=0\n",
        "e4=3000\n",
        "matrix= np.zeros((no,no), dtype=int)\n",
        "while(edge<e4):\n",
        "  b=np.random.randint(0,no)\n",
        "  a=np.random.randint(0,no)\n",
        "  weight=np.random.randint(0,100)\n",
        "  while(weight== 0):\n",
        "    weight=np.random.randint(0,100)\n",
        "\t\n",
        "\t\n",
        "    edge=edge+1\n",
        "  matrix[a][b]=weight\n",
        "\n",
        "no_of_comp_matrix=floydWarshall(matrix)\n",
        "\n",
        "y_axis.append(no_of_comp_matrix)\n",
        "x_axis.append(e4)\n",
        "\n",
        "#for 5050\n",
        "matrix=[]\n",
        "edge=0\n",
        "e5=5050\n",
        "matrix= np.zeros((no,no), dtype=int)\n",
        "while(edge<e5):\n",
        "  b=np.random.randint(0,no)\n",
        "  a=np.random.randint(0,no)\n",
        "  weight=np.random.randint(0,100)\n",
        "  while(weight== 0):\n",
        "    weight=np.random.randint(0,100)\n",
        "\t\n",
        "\n",
        "    edge=edge+1\n",
        "  matrix[a][b]=weight   \n",
        "no_of_comp_matrix=floydWarshall(matrix)\n",
        "\n",
        "y_axis.append(no_of_comp_matrix)\n",
        "x_axis.append(e5)\n",
        "print(y_axis)\n",
        "print(z_axis)\n",
        "plt.plot(x_axis, y_axis)\n",
        "plt.xlabel(\"Number of Searches performed\")\n",
        "plt.ylabel(\"Number of Comparision\")\n",
        "plt.legend([\"adjancey MATRIX\"])\n",
        "plt.show()"
      ],
      "execution_count": 0,
      "outputs": [
        {
          "output_type": "stream",
          "text": [
            "[1030301, 1030301, 1030301, 1030301, 1030301, 1030301]\n",
            "[]\n"
          ],
          "name": "stdout"
        },
        {
          "output_type": "display_data",
          "data": {
            "image/png": "[encoded data removed]",
            "text/plain": [
              "<Figure size 432x288 with 1 Axes>"
            ]
          },
          "metadata": {
            "tags": []
          }
        }
      ]
    }
  ]
}